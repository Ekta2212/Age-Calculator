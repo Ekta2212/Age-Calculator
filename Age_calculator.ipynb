{
  "nbformat": 4,
  "nbformat_minor": 0,
  "metadata": {
    "colab": {
      "private_outputs": true,
      "provenance": []
    },
    "kernelspec": {
      "name": "python3",
      "display_name": "Python 3"
    },
    "language_info": {
      "name": "python"
    }
  },
  "cells": [
    {
      "cell_type": "code",
      "execution_count": null,
      "metadata": {
        "id": "0VdgS4nl68Kq"
      },
      "outputs": [],
      "source": [
        "from datetime import date\n",
        "x = int(input(\"Enter your birth year: \"))\n",
        "\n",
        "def age(year):\n",
        "  return date.today().year-year\n",
        "print(f\"your age is {age(x)}\")\n",
        "\n",
        "y = int(input(\"Enter your birth month is: \"))\n",
        "\n",
        "def age(month):\n",
        "  return month-date.today().month\n",
        "print(f\"your age month is {age(y)}\")\n",
        "\n",
        "z = int(input(\"Enter your birth day is: \"))\n",
        "\n",
        "def age(day):\n",
        "  return day-date.today().day\n",
        "print(f\"your age day is {age(z)}\")\n"
      ]
    }
  ]
}